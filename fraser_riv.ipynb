{
 "cells": [
  {
   "cell_type": "code",
   "execution_count": 1,
   "metadata": {},
   "outputs": [],
   "source": [
    "import pandas as pd\n",
    "import matplotlib as mb\n",
    "import numpy as np \n",
    "import datetime\n"
   ]
  },
  {
   "cell_type": "code",
   "execution_count": 2,
   "metadata": {},
   "outputs": [],
   "source": [
    "fraser_data_19962007 = pd.read_csv(r'C:\\Users\\MJHATA\\OneDrive - Denver Water\\Documents\\Python Scripts\\fraser_19962007.csv')\n",
    "fraser_data_20072014 = pd.read_csv(r'C:\\Users\\MJHATA\\OneDrive - Denver Water\\Documents\\Python Scripts\\fraser_20072014.csv')\n",
    "fraser_data_20142021 = pd.read_csv(r'C:\\Users\\MJHATA\\OneDrive - Denver Water\\Documents\\Python Scripts\\fraser_20142021.csv')"
   ]
  },
  {
   "cell_type": "code",
   "execution_count": 3,
   "metadata": {},
   "outputs": [
    {
     "data": {
      "text/html": [
       "<div>\n",
       "<style scoped>\n",
       "    .dataframe tbody tr th:only-of-type {\n",
       "        vertical-align: middle;\n",
       "    }\n",
       "\n",
       "    .dataframe tbody tr th {\n",
       "        vertical-align: top;\n",
       "    }\n",
       "\n",
       "    .dataframe thead th {\n",
       "        text-align: right;\n",
       "    }\n",
       "</style>\n",
       "<table border=\"1\" class=\"dataframe\">\n",
       "  <thead>\n",
       "    <tr style=\"text-align: right;\">\n",
       "      <th></th>\n",
       "      <th>DATE</th>\n",
       "      <th>CODE</th>\n",
       "      <th>BYPASS_NAME</th>\n",
       "      <th>IRRIGATION</th>\n",
       "      <th>SPILL</th>\n",
       "      <th>FISH</th>\n",
       "    </tr>\n",
       "  </thead>\n",
       "  <tbody>\n",
       "    <tr>\n",
       "      <th>0</th>\n",
       "      <td>1996-01-01 00:00:00</td>\n",
       "      <td>FR</td>\n",
       "      <td>BIG VASQUEZ</td>\n",
       "      <td>0</td>\n",
       "      <td>0</td>\n",
       "      <td>3</td>\n",
       "    </tr>\n",
       "    <tr>\n",
       "      <th>1</th>\n",
       "      <td>1996-01-01 00:00:00</td>\n",
       "      <td>FR</td>\n",
       "      <td>CABIN CREEK</td>\n",
       "      <td>0</td>\n",
       "      <td>0</td>\n",
       "      <td>2</td>\n",
       "    </tr>\n",
       "    <tr>\n",
       "      <th>2</th>\n",
       "      <td>1996-01-01 00:00:00</td>\n",
       "      <td>FR</td>\n",
       "      <td>DENVER WATER TOTAL</td>\n",
       "      <td>0</td>\n",
       "      <td>0</td>\n",
       "      <td>3</td>\n",
       "    </tr>\n",
       "    <tr>\n",
       "      <th>3</th>\n",
       "      <td>1996-01-01 00:00:00</td>\n",
       "      <td>FR</td>\n",
       "      <td>ELK CREEK</td>\n",
       "      <td>in system</td>\n",
       "      <td>0</td>\n",
       "      <td>0</td>\n",
       "    </tr>\n",
       "    <tr>\n",
       "      <th>4</th>\n",
       "      <td>1996-01-01 00:00:00</td>\n",
       "      <td>FR</td>\n",
       "      <td>FRASER RIVER</td>\n",
       "      <td>0</td>\n",
       "      <td>0</td>\n",
       "      <td>4</td>\n",
       "    </tr>\n",
       "    <tr>\n",
       "      <th>...</th>\n",
       "      <td>...</td>\n",
       "      <td>...</td>\n",
       "      <td>...</td>\n",
       "      <td>...</td>\n",
       "      <td>...</td>\n",
       "      <td>...</td>\n",
       "    </tr>\n",
       "    <tr>\n",
       "      <th>57362</th>\n",
       "      <td>2007-03-31 00:00:00</td>\n",
       "      <td>FR</td>\n",
       "      <td>MEADOW CREEK</td>\n",
       "      <td>NaN</td>\n",
       "      <td>NaN</td>\n",
       "      <td>1</td>\n",
       "    </tr>\n",
       "    <tr>\n",
       "      <th>57363</th>\n",
       "      <td>2007-03-31 00:00:00</td>\n",
       "      <td>FR</td>\n",
       "      <td>RANCH CREEK</td>\n",
       "      <td>NaN</td>\n",
       "      <td>NaN</td>\n",
       "      <td>2</td>\n",
       "    </tr>\n",
       "    <tr>\n",
       "      <th>57364</th>\n",
       "      <td>2007-03-31 00:00:00</td>\n",
       "      <td>FR</td>\n",
       "      <td>ST LOUIS CREEK</td>\n",
       "      <td>NaN</td>\n",
       "      <td>NaN</td>\n",
       "      <td>4</td>\n",
       "    </tr>\n",
       "    <tr>\n",
       "      <th>57365</th>\n",
       "      <td>2007-03-31 00:00:00</td>\n",
       "      <td>FR</td>\n",
       "      <td>TRAIL CREEK</td>\n",
       "      <td>NaN</td>\n",
       "      <td>NaN</td>\n",
       "      <td>1</td>\n",
       "    </tr>\n",
       "    <tr>\n",
       "      <th>57366</th>\n",
       "      <td>2007-03-31 00:00:00</td>\n",
       "      <td>FR</td>\n",
       "      <td>USGS DAILY TOTAL</td>\n",
       "      <td>1</td>\n",
       "      <td>0</td>\n",
       "      <td>13</td>\n",
       "    </tr>\n",
       "  </tbody>\n",
       "</table>\n",
       "<p>57367 rows × 6 columns</p>\n",
       "</div>"
      ],
      "text/plain": [
       "                      DATE CODE         BYPASS_NAME IRRIGATION SPILL FISH\n",
       "0      1996-01-01 00:00:00   FR         BIG VASQUEZ          0     0    3\n",
       "1      1996-01-01 00:00:00   FR         CABIN CREEK          0     0    2\n",
       "2      1996-01-01 00:00:00   FR  DENVER WATER TOTAL          0     0    3\n",
       "3      1996-01-01 00:00:00   FR           ELK CREEK  in system     0    0\n",
       "4      1996-01-01 00:00:00   FR        FRASER RIVER          0     0    4\n",
       "...                    ...  ...                 ...        ...   ...  ...\n",
       "57362  2007-03-31 00:00:00   FR        MEADOW CREEK        NaN   NaN    1\n",
       "57363  2007-03-31 00:00:00   FR         RANCH CREEK        NaN   NaN    2\n",
       "57364  2007-03-31 00:00:00   FR      ST LOUIS CREEK        NaN   NaN    4\n",
       "57365  2007-03-31 00:00:00   FR         TRAIL CREEK        NaN   NaN    1\n",
       "57366  2007-03-31 00:00:00   FR    USGS DAILY TOTAL          1     0   13\n",
       "\n",
       "[57367 rows x 6 columns]"
      ]
     },
     "execution_count": 3,
     "metadata": {},
     "output_type": "execute_result"
    }
   ],
   "source": [
    "fraser_data_19962007"
   ]
  },
  {
   "cell_type": "code",
   "execution_count": 4,
   "metadata": {},
   "outputs": [],
   "source": [
    "frames = [fraser_data_19962007, fraser_data_20072014, fraser_data_20142021]\n",
    "result_df = pd.concat(frames)\n"
   ]
  },
  {
   "cell_type": "code",
   "execution_count": 5,
   "metadata": {},
   "outputs": [],
   "source": [
    "result_df = result_df[result_df.BYPASS_NAME != 'DENVER WATER TOTAL']\n",
    "result_df = result_df[result_df.BYPASS_NAME != 'USGS DAILY TOTAL']"
   ]
  },
  {
   "cell_type": "markdown",
   "metadata": {},
   "source": [
    "## Big Vasquez"
   ]
  },
  {
   "cell_type": "code",
   "execution_count": 6,
   "metadata": {},
   "outputs": [],
   "source": [
    "bypass_list = ['bypassed','bp','bupassed','by passed','byassed','byp[assed','bypaassed','bypaqssed','bypass','bypassd','bypassede','bypassedf','bypasseds','bypasseed','bypasses','bypasssed','bypsassed','dypassed','pypassed','Bypassed','b','by','bybass','ypass','b ypassed','ed']\n",
    "in_system_list = ['in  system','in system','insysteem','insysten','insystyem','system']\n",
    "frozen_list = ['frozen']\n",
    "\n",
    "big_vasquez = result_df.loc[result_df['BYPASS_NAME'] == 'BIG VASQUEZ']\n",
    "big_vasquez = big_vasquez.fillna(0)"
   ]
  },
  {
   "cell_type": "code",
   "execution_count": 7,
   "metadata": {},
   "outputs": [],
   "source": [
    "big_vasquez['DATE'] = pd.to_datetime(big_vasquez['DATE'])"
   ]
  },
  {
   "cell_type": "code",
   "execution_count": 8,
   "metadata": {},
   "outputs": [
    {
     "data": {
      "text/html": [
       "<div>\n",
       "<style scoped>\n",
       "    .dataframe tbody tr th:only-of-type {\n",
       "        vertical-align: middle;\n",
       "    }\n",
       "\n",
       "    .dataframe tbody tr th {\n",
       "        vertical-align: top;\n",
       "    }\n",
       "\n",
       "    .dataframe thead th {\n",
       "        text-align: right;\n",
       "    }\n",
       "</style>\n",
       "<table border=\"1\" class=\"dataframe\">\n",
       "  <thead>\n",
       "    <tr style=\"text-align: right;\">\n",
       "      <th></th>\n",
       "      <th>DATE</th>\n",
       "      <th>CODE</th>\n",
       "      <th>BYPASS_NAME</th>\n",
       "      <th>IRRIGATION</th>\n",
       "      <th>SPILL</th>\n",
       "      <th>FISH</th>\n",
       "    </tr>\n",
       "  </thead>\n",
       "  <tbody>\n",
       "    <tr>\n",
       "      <th>0</th>\n",
       "      <td>1996-01-01</td>\n",
       "      <td>FR</td>\n",
       "      <td>BIG VASQUEZ</td>\n",
       "      <td>0</td>\n",
       "      <td>0</td>\n",
       "      <td>3</td>\n",
       "    </tr>\n",
       "    <tr>\n",
       "      <th>14</th>\n",
       "      <td>1996-01-02</td>\n",
       "      <td>FR</td>\n",
       "      <td>BIG VASQUEZ</td>\n",
       "      <td>0</td>\n",
       "      <td>0</td>\n",
       "      <td>3</td>\n",
       "    </tr>\n",
       "    <tr>\n",
       "      <th>28</th>\n",
       "      <td>1996-01-03</td>\n",
       "      <td>FR</td>\n",
       "      <td>BIG VASQUEZ</td>\n",
       "      <td>0</td>\n",
       "      <td>0</td>\n",
       "      <td>3</td>\n",
       "    </tr>\n",
       "    <tr>\n",
       "      <th>42</th>\n",
       "      <td>1996-01-04</td>\n",
       "      <td>FR</td>\n",
       "      <td>BIG VASQUEZ</td>\n",
       "      <td>0</td>\n",
       "      <td>0</td>\n",
       "      <td>3</td>\n",
       "    </tr>\n",
       "    <tr>\n",
       "      <th>56</th>\n",
       "      <td>1996-01-05</td>\n",
       "      <td>FR</td>\n",
       "      <td>BIG VASQUEZ</td>\n",
       "      <td>0</td>\n",
       "      <td>0</td>\n",
       "      <td>3</td>\n",
       "    </tr>\n",
       "    <tr>\n",
       "      <th>...</th>\n",
       "      <td>...</td>\n",
       "      <td>...</td>\n",
       "      <td>...</td>\n",
       "      <td>...</td>\n",
       "      <td>...</td>\n",
       "      <td>...</td>\n",
       "    </tr>\n",
       "    <tr>\n",
       "      <th>35616</th>\n",
       "      <td>2021-03-28</td>\n",
       "      <td>FR</td>\n",
       "      <td>BIG VASQUEZ</td>\n",
       "      <td>0</td>\n",
       "      <td>0</td>\n",
       "      <td>3</td>\n",
       "    </tr>\n",
       "    <tr>\n",
       "      <th>35630</th>\n",
       "      <td>2021-03-29</td>\n",
       "      <td>FR</td>\n",
       "      <td>BIG VASQUEZ</td>\n",
       "      <td>0</td>\n",
       "      <td>0</td>\n",
       "      <td>3</td>\n",
       "    </tr>\n",
       "    <tr>\n",
       "      <th>35644</th>\n",
       "      <td>2021-03-30</td>\n",
       "      <td>FR</td>\n",
       "      <td>BIG VASQUEZ</td>\n",
       "      <td>0</td>\n",
       "      <td>0</td>\n",
       "      <td>3</td>\n",
       "    </tr>\n",
       "    <tr>\n",
       "      <th>35658</th>\n",
       "      <td>2021-03-31</td>\n",
       "      <td>FR</td>\n",
       "      <td>BIG VASQUEZ</td>\n",
       "      <td>0</td>\n",
       "      <td>0</td>\n",
       "      <td>3</td>\n",
       "    </tr>\n",
       "    <tr>\n",
       "      <th>35672</th>\n",
       "      <td>2021-04-01</td>\n",
       "      <td>FR</td>\n",
       "      <td>BIG VASQUEZ</td>\n",
       "      <td>0</td>\n",
       "      <td>0</td>\n",
       "      <td>3</td>\n",
       "    </tr>\n",
       "  </tbody>\n",
       "</table>\n",
       "<p>9107 rows × 6 columns</p>\n",
       "</div>"
      ],
      "text/plain": [
       "            DATE CODE  BYPASS_NAME IRRIGATION SPILL FISH\n",
       "0     1996-01-01   FR  BIG VASQUEZ          0     0    3\n",
       "14    1996-01-02   FR  BIG VASQUEZ          0     0    3\n",
       "28    1996-01-03   FR  BIG VASQUEZ          0     0    3\n",
       "42    1996-01-04   FR  BIG VASQUEZ          0     0    3\n",
       "56    1996-01-05   FR  BIG VASQUEZ          0     0    3\n",
       "...          ...  ...          ...        ...   ...  ...\n",
       "35616 2021-03-28   FR  BIG VASQUEZ          0     0    3\n",
       "35630 2021-03-29   FR  BIG VASQUEZ          0     0    3\n",
       "35644 2021-03-30   FR  BIG VASQUEZ          0     0    3\n",
       "35658 2021-03-31   FR  BIG VASQUEZ          0     0    3\n",
       "35672 2021-04-01   FR  BIG VASQUEZ          0     0    3\n",
       "\n",
       "[9107 rows x 6 columns]"
      ]
     },
     "execution_count": 8,
     "metadata": {},
     "output_type": "execute_result"
    }
   ],
   "source": [
    "big_vasquez"
   ]
  },
  {
   "cell_type": "code",
   "execution_count": 9,
   "metadata": {},
   "outputs": [],
   "source": [
    "big_vasquez['MM-DD'] = big_vasquez['DATE'].dt.strftime('%m-%d')"
   ]
  },
  {
   "cell_type": "code",
   "execution_count": 10,
   "metadata": {},
   "outputs": [],
   "source": [
    "big_vasquez['MM-DD'] = pd.to_datetime(big_vasquez['MM-DD'],errors = 'coerce')"
   ]
  },
  {
   "cell_type": "code",
   "execution_count": 11,
   "metadata": {},
   "outputs": [],
   "source": [
    "timeframe = ['05-15','05-16','05-17','05-18','05-19','05-20','05-21','05-22','05-23','05-24','05-25','05-26','05-27','05-28','05-29','05-30','05-31','06-01','06-02','06-03','06-04','06-05','06-06','06-07','06-08','06-09','06-10','06-11','06-12','06-13','06-14','06-15','06-16','06-17','06-18','06-19','06-20','06-21','06-22','06-23','06-24','06-25','06-26','06-27','06-28','06-29','06-30','07-01','07-02','07-03','07-04','07-05','07-06','07-07','07-08','07-09','07-10','07-11','07-12','07-13','07-14','07-15','07-16','07-17','07-18','07-19','07-20','07-21','07-22','07-23','07-24','07-25','07-26','07-27','07-28','07-29','07-30','07-31','08-01','08-02','08-03','08-04','08-05','08-06','08-07','08-08','08-09','08-10','08-11','08-12','08-13','08-14','08-15','08-16','08-17','08-18','08-19','08-20','08-21','08-22','08-23','08-24','08-25','08-26','08-27','08-28','08-29','08-31','09-01','09-02','09-03','09-04','09-05','09-06','09-07','09-08','09-09','09-10','09-11','09-12','09-13','09-14','09-15']"
   ]
  },
  {
   "cell_type": "code",
   "execution_count": 12,
   "metadata": {},
   "outputs": [],
   "source": [
    "# clearing up \"bypass\" values\n",
    "big_vasquez['IRRIGATION'] = np.where((big_vasquez['IRRIGATION'].isin(bypass_list)) & (big_vasquez['MM-DD'].isin(timeframe)), '4', big_vasquez['IRRIGATION'])\n"
   ]
  },
  {
   "cell_type": "code",
   "execution_count": 13,
   "metadata": {},
   "outputs": [
    {
     "data": {
      "text/plain": [
       "DATE           datetime64[ns]\n",
       "CODE                   object\n",
       "BYPASS_NAME            object\n",
       "IRRIGATION             object\n",
       "SPILL                  object\n",
       "FISH                   object\n",
       "MM-DD          datetime64[ns]\n",
       "dtype: object"
      ]
     },
     "execution_count": 13,
     "metadata": {},
     "output_type": "execute_result"
    }
   ],
   "source": [
    "big_vasquez.dtypes"
   ]
  },
  {
   "cell_type": "code",
   "execution_count": 14,
   "metadata": {},
   "outputs": [
    {
     "data": {
      "text/html": [
       "<div>\n",
       "<style scoped>\n",
       "    .dataframe tbody tr th:only-of-type {\n",
       "        vertical-align: middle;\n",
       "    }\n",
       "\n",
       "    .dataframe tbody tr th {\n",
       "        vertical-align: top;\n",
       "    }\n",
       "\n",
       "    .dataframe thead th {\n",
       "        text-align: right;\n",
       "    }\n",
       "</style>\n",
       "<table border=\"1\" class=\"dataframe\">\n",
       "  <thead>\n",
       "    <tr style=\"text-align: right;\">\n",
       "      <th></th>\n",
       "      <th>DATE</th>\n",
       "      <th>CODE</th>\n",
       "      <th>BYPASS_NAME</th>\n",
       "      <th>IRRIGATION</th>\n",
       "      <th>SPILL</th>\n",
       "      <th>FISH</th>\n",
       "      <th>MM-DD</th>\n",
       "    </tr>\n",
       "  </thead>\n",
       "  <tbody>\n",
       "    <tr>\n",
       "      <th>1694</th>\n",
       "      <td>1996-05-01</td>\n",
       "      <td>FR</td>\n",
       "      <td>BIG VASQUEZ</td>\n",
       "      <td>bypassed</td>\n",
       "      <td>0</td>\n",
       "      <td>0</td>\n",
       "      <td>NaT</td>\n",
       "    </tr>\n",
       "    <tr>\n",
       "      <th>1708</th>\n",
       "      <td>1996-05-02</td>\n",
       "      <td>FR</td>\n",
       "      <td>BIG VASQUEZ</td>\n",
       "      <td>bypassed</td>\n",
       "      <td>0</td>\n",
       "      <td>0</td>\n",
       "      <td>NaT</td>\n",
       "    </tr>\n",
       "    <tr>\n",
       "      <th>1722</th>\n",
       "      <td>1996-05-03</td>\n",
       "      <td>FR</td>\n",
       "      <td>BIG VASQUEZ</td>\n",
       "      <td>bypassed</td>\n",
       "      <td>0</td>\n",
       "      <td>0</td>\n",
       "      <td>NaT</td>\n",
       "    </tr>\n",
       "    <tr>\n",
       "      <th>1736</th>\n",
       "      <td>1996-05-04</td>\n",
       "      <td>FR</td>\n",
       "      <td>BIG VASQUEZ</td>\n",
       "      <td>bypassed</td>\n",
       "      <td>0</td>\n",
       "      <td>0</td>\n",
       "      <td>NaT</td>\n",
       "    </tr>\n",
       "    <tr>\n",
       "      <th>1750</th>\n",
       "      <td>1996-05-05</td>\n",
       "      <td>FR</td>\n",
       "      <td>BIG VASQUEZ</td>\n",
       "      <td>bypassed</td>\n",
       "      <td>0</td>\n",
       "      <td>0</td>\n",
       "      <td>NaT</td>\n",
       "    </tr>\n",
       "    <tr>\n",
       "      <th>33647</th>\n",
       "      <td>2002-08-01</td>\n",
       "      <td>FR</td>\n",
       "      <td>BIG VASQUEZ</td>\n",
       "      <td>bypassed</td>\n",
       "      <td>0</td>\n",
       "      <td>0</td>\n",
       "      <td>NaT</td>\n",
       "    </tr>\n",
       "    <tr>\n",
       "      <th>33661</th>\n",
       "      <td>2002-08-02</td>\n",
       "      <td>FR</td>\n",
       "      <td>BIG VASQUEZ</td>\n",
       "      <td>bypassed</td>\n",
       "      <td>0</td>\n",
       "      <td>0</td>\n",
       "      <td>NaT</td>\n",
       "    </tr>\n",
       "    <tr>\n",
       "      <th>33675</th>\n",
       "      <td>2002-08-03</td>\n",
       "      <td>FR</td>\n",
       "      <td>BIG VASQUEZ</td>\n",
       "      <td>bypassed</td>\n",
       "      <td>0</td>\n",
       "      <td>0</td>\n",
       "      <td>NaT</td>\n",
       "    </tr>\n",
       "    <tr>\n",
       "      <th>33689</th>\n",
       "      <td>2002-08-04</td>\n",
       "      <td>FR</td>\n",
       "      <td>BIG VASQUEZ</td>\n",
       "      <td>bypassed</td>\n",
       "      <td>0</td>\n",
       "      <td>0</td>\n",
       "      <td>NaT</td>\n",
       "    </tr>\n",
       "    <tr>\n",
       "      <th>33703</th>\n",
       "      <td>2002-08-05</td>\n",
       "      <td>FR</td>\n",
       "      <td>BIG VASQUEZ</td>\n",
       "      <td>bypassed</td>\n",
       "      <td>0</td>\n",
       "      <td>0</td>\n",
       "      <td>NaT</td>\n",
       "    </tr>\n",
       "    <tr>\n",
       "      <th>33717</th>\n",
       "      <td>2002-08-06</td>\n",
       "      <td>FR</td>\n",
       "      <td>BIG VASQUEZ</td>\n",
       "      <td>bypassed</td>\n",
       "      <td>0</td>\n",
       "      <td>0</td>\n",
       "      <td>NaT</td>\n",
       "    </tr>\n",
       "    <tr>\n",
       "      <th>39569</th>\n",
       "      <td>2003-10-01</td>\n",
       "      <td>FR</td>\n",
       "      <td>BIG VASQUEZ</td>\n",
       "      <td>Bypassed</td>\n",
       "      <td>0</td>\n",
       "      <td>0</td>\n",
       "      <td>NaT</td>\n",
       "    </tr>\n",
       "  </tbody>\n",
       "</table>\n",
       "</div>"
      ],
      "text/plain": [
       "            DATE CODE  BYPASS_NAME IRRIGATION SPILL FISH MM-DD\n",
       "1694  1996-05-01   FR  BIG VASQUEZ   bypassed     0    0   NaT\n",
       "1708  1996-05-02   FR  BIG VASQUEZ   bypassed     0    0   NaT\n",
       "1722  1996-05-03   FR  BIG VASQUEZ   bypassed     0    0   NaT\n",
       "1736  1996-05-04   FR  BIG VASQUEZ   bypassed     0    0   NaT\n",
       "1750  1996-05-05   FR  BIG VASQUEZ   bypassed     0    0   NaT\n",
       "33647 2002-08-01   FR  BIG VASQUEZ   bypassed     0    0   NaT\n",
       "33661 2002-08-02   FR  BIG VASQUEZ   bypassed     0    0   NaT\n",
       "33675 2002-08-03   FR  BIG VASQUEZ   bypassed     0    0   NaT\n",
       "33689 2002-08-04   FR  BIG VASQUEZ   bypassed     0    0   NaT\n",
       "33703 2002-08-05   FR  BIG VASQUEZ   bypassed     0    0   NaT\n",
       "33717 2002-08-06   FR  BIG VASQUEZ   bypassed     0    0   NaT\n",
       "39569 2003-10-01   FR  BIG VASQUEZ   Bypassed     0    0   NaT"
      ]
     },
     "execution_count": 14,
     "metadata": {},
     "output_type": "execute_result"
    }
   ],
   "source": [
    "big_vasquez.loc[big_vasquez['IRRIGATION'].isin(bypass_list)]"
   ]
  },
  {
   "cell_type": "code",
   "execution_count": 15,
   "metadata": {},
   "outputs": [],
   "source": [
    "#irrigation bypasses\n",
    "big_vasquez['IRRIGATION'] = np.where((big_vasquez['IRRIGATION'].isin(bypass_list)), '1.5', big_vasquez['IRRIGATION'])\n",
    "\n",
    "# spill bypasses\n",
    "big_vasquez['SPILL'] = np.where((big_vasquez['SPILL'].isin(bypass_list)) & (big_vasquez['MM-DD'].isin(timeframe)), '4', big_vasquez['SPILL'])\n",
    "big_vasquez['SPILL'] = np.where((big_vasquez['SPILL'].isin(bypass_list)), '1.5', big_vasquez['SPILL'])\n",
    "\n",
    "#fish bypasses\n",
    "big_vasquez['FISH'] = np.where((big_vasquez['FISH'].isin(bypass_list)) & (big_vasquez['MM-DD'].isin(timeframe)), '4', big_vasquez['FISH'])\n",
    "big_vasquez['FISH'] = np.where((big_vasquez['FISH'].isin(bypass_list)), '1.5', big_vasquez['FISH'])"
   ]
  },
  {
   "cell_type": "code",
   "execution_count": 16,
   "metadata": {},
   "outputs": [],
   "source": [
    "#clear out \"in system\", set all to 0\n",
    "big_vasquez['IRRIGATION'] = np.where((big_vasquez['IRRIGATION'].isin(in_system_list)), '0', big_vasquez['IRRIGATION'])\n",
    "big_vasquez['SPILL'] = np.where((big_vasquez['SPILL'].isin(in_system_list)), '0', big_vasquez['SPILL'])\n",
    "big_vasquez['FISH'] = np.where((big_vasquez['FISH'].isin(in_system_list)), '0', big_vasquez['FISH'])\n",
    "\n",
    "#clear frozen entries, set to 0\n",
    "big_vasquez['IRRIGATION'] = np.where((big_vasquez['IRRIGATION'].isin(frozen_list)), '0', big_vasquez['IRRIGATION'])\n",
    "big_vasquez['SPILL'] = np.where((big_vasquez['SPILL'].isin(frozen_list)), '0', big_vasquez['SPILL'])\n",
    "big_vasquez['FISH'] = np.where((big_vasquez['FISH'].isin(frozen_list)), '0', big_vasquez['FISH'])"
   ]
  },
  {
   "cell_type": "markdown",
   "metadata": {},
   "source": [
    "## Little Vasquez"
   ]
  },
  {
   "cell_type": "code",
   "execution_count": 17,
   "metadata": {},
   "outputs": [],
   "source": [
    "#little vasquez \n",
    "little_vasquez = result_df.loc[result_df['BYPASS_NAME'] == 'LITTLE VASQUEZ']"
   ]
  },
  {
   "cell_type": "code",
   "execution_count": 18,
   "metadata": {},
   "outputs": [],
   "source": [
    "#fill in the random values with 0\n",
    "little_vasquez = little_vasquez.fillna(0)\n",
    "\n",
    "#setting each date as a \"date\" and set a MM-DD\n",
    "little_vasquez['DATE'] = pd.to_datetime(little_vasquez['DATE'])\n",
    "little_vasquez['MM-DD'] = little_vasquez['DATE'].dt.strftime('%m-%d')"
   ]
  },
  {
   "cell_type": "code",
   "execution_count": 19,
   "metadata": {},
   "outputs": [],
   "source": [
    "# clear up the bypassed values\n",
    "little_vasquez['IRRIGATION'] = np.where((little_vasquez['IRRIGATION'].isin(bypass_list)) & (little_vasquez['MM-DD'].isin(timeframe)), '4', little_vasquez['IRRIGATION'])\n",
    "\n",
    "little_vasquez['SPILL'] = np.where((little_vasquez['SPILL'].isin(bypass_list)) & (little_vasquez['MM-DD'].isin(timeframe)), '4', little_vasquez['SPILL'])\n",
    "\n",
    "little_vasquez['FISH'] = np.where((little_vasquez['FISH'].isin(bypass_list)) & (little_vasquez['MM-DD'].isin(timeframe)), '4', little_vasquez['FISH'])"
   ]
  },
  {
   "cell_type": "code",
   "execution_count": 20,
   "metadata": {},
   "outputs": [],
   "source": [
    "#irrigation bypasses\n",
    "little_vasquez['IRRIGATION'] = np.where((little_vasquez['IRRIGATION'].isin(bypass_list)), '1.5', little_vasquez['IRRIGATION'])\n",
    "\n",
    "#spill bypasses\n",
    "little_vasquez['SPILL'] = np.where((little_vasquez['SPILL'].isin(bypass_list)), '1.5', little_vasquez['SPILL'])\n",
    "\n",
    "#fish bypasses\n",
    "little_vasquez['FISH'] = np.where((little_vasquez['FISH'].isin(bypass_list)), '1.5', little_vasquez['FISH'])"
   ]
  },
  {
   "cell_type": "code",
   "execution_count": 21,
   "metadata": {},
   "outputs": [],
   "source": [
    "#clear out \"in system\", set all to 0\n",
    "little_vasquez['IRRIGATION'] = np.where((little_vasquez['IRRIGATION'].isin(in_system_list)), '0', little_vasquez['IRRIGATION'])\n",
    "little_vasquez['SPILL'] = np.where((little_vasquez['SPILL'].isin(in_system_list)), '0', little_vasquez['SPILL'])\n",
    "little_vasquez['FISH'] = np.where((little_vasquez['FISH'].isin(in_system_list)), '0', little_vasquez['FISH'])\n",
    "\n",
    "#clear frozen entries, set to 0\n",
    "little_vasquez['IRRIGATION'] = np.where((little_vasquez['IRRIGATION'].isin(frozen_list)), '0', little_vasquez['IRRIGATION'])\n",
    "little_vasquez['SPILL'] = np.where((little_vasquez['SPILL'].isin(frozen_list)), '0', little_vasquez['SPILL'])\n",
    "little_vasquez['FISH'] = np.where((little_vasquez['FISH'].isin(frozen_list)), '0', little_vasquez['FISH'])"
   ]
  },
  {
   "cell_type": "code",
   "execution_count": 22,
   "metadata": {},
   "outputs": [
    {
     "data": {
      "text/html": [
       "<div>\n",
       "<style scoped>\n",
       "    .dataframe tbody tr th:only-of-type {\n",
       "        vertical-align: middle;\n",
       "    }\n",
       "\n",
       "    .dataframe tbody tr th {\n",
       "        vertical-align: top;\n",
       "    }\n",
       "\n",
       "    .dataframe thead th {\n",
       "        text-align: right;\n",
       "    }\n",
       "</style>\n",
       "<table border=\"1\" class=\"dataframe\">\n",
       "  <thead>\n",
       "    <tr style=\"text-align: right;\">\n",
       "      <th></th>\n",
       "      <th>DATE</th>\n",
       "      <th>CODE</th>\n",
       "      <th>BYPASS_NAME</th>\n",
       "      <th>IRRIGATION</th>\n",
       "      <th>SPILL</th>\n",
       "      <th>FISH</th>\n",
       "      <th>MM-DD</th>\n",
       "    </tr>\n",
       "  </thead>\n",
       "  <tbody>\n",
       "    <tr>\n",
       "      <th>8</th>\n",
       "      <td>1996-01-01</td>\n",
       "      <td>FR</td>\n",
       "      <td>LITTLE VASQUEZ</td>\n",
       "      <td>1</td>\n",
       "      <td>0</td>\n",
       "      <td>0</td>\n",
       "      <td>01-01</td>\n",
       "    </tr>\n",
       "    <tr>\n",
       "      <th>22</th>\n",
       "      <td>1996-01-02</td>\n",
       "      <td>FR</td>\n",
       "      <td>LITTLE VASQUEZ</td>\n",
       "      <td>1</td>\n",
       "      <td>0</td>\n",
       "      <td>0</td>\n",
       "      <td>01-02</td>\n",
       "    </tr>\n",
       "    <tr>\n",
       "      <th>36</th>\n",
       "      <td>1996-01-03</td>\n",
       "      <td>FR</td>\n",
       "      <td>LITTLE VASQUEZ</td>\n",
       "      <td>1</td>\n",
       "      <td>0</td>\n",
       "      <td>0</td>\n",
       "      <td>01-03</td>\n",
       "    </tr>\n",
       "    <tr>\n",
       "      <th>50</th>\n",
       "      <td>1996-01-04</td>\n",
       "      <td>FR</td>\n",
       "      <td>LITTLE VASQUEZ</td>\n",
       "      <td>1</td>\n",
       "      <td>0</td>\n",
       "      <td>0</td>\n",
       "      <td>01-04</td>\n",
       "    </tr>\n",
       "    <tr>\n",
       "      <th>64</th>\n",
       "      <td>1996-01-05</td>\n",
       "      <td>FR</td>\n",
       "      <td>LITTLE VASQUEZ</td>\n",
       "      <td>1</td>\n",
       "      <td>0</td>\n",
       "      <td>0</td>\n",
       "      <td>01-05</td>\n",
       "    </tr>\n",
       "    <tr>\n",
       "      <th>...</th>\n",
       "      <td>...</td>\n",
       "      <td>...</td>\n",
       "      <td>...</td>\n",
       "      <td>...</td>\n",
       "      <td>...</td>\n",
       "      <td>...</td>\n",
       "      <td>...</td>\n",
       "    </tr>\n",
       "    <tr>\n",
       "      <th>35624</th>\n",
       "      <td>2021-03-28</td>\n",
       "      <td>FR</td>\n",
       "      <td>LITTLE VASQUEZ</td>\n",
       "      <td>1</td>\n",
       "      <td>0</td>\n",
       "      <td>0</td>\n",
       "      <td>03-28</td>\n",
       "    </tr>\n",
       "    <tr>\n",
       "      <th>35638</th>\n",
       "      <td>2021-03-29</td>\n",
       "      <td>FR</td>\n",
       "      <td>LITTLE VASQUEZ</td>\n",
       "      <td>1</td>\n",
       "      <td>0</td>\n",
       "      <td>0</td>\n",
       "      <td>03-29</td>\n",
       "    </tr>\n",
       "    <tr>\n",
       "      <th>35652</th>\n",
       "      <td>2021-03-30</td>\n",
       "      <td>FR</td>\n",
       "      <td>LITTLE VASQUEZ</td>\n",
       "      <td>1</td>\n",
       "      <td>0</td>\n",
       "      <td>0</td>\n",
       "      <td>03-30</td>\n",
       "    </tr>\n",
       "    <tr>\n",
       "      <th>35666</th>\n",
       "      <td>2021-03-31</td>\n",
       "      <td>FR</td>\n",
       "      <td>LITTLE VASQUEZ</td>\n",
       "      <td>1</td>\n",
       "      <td>0</td>\n",
       "      <td>0</td>\n",
       "      <td>03-31</td>\n",
       "    </tr>\n",
       "    <tr>\n",
       "      <th>35680</th>\n",
       "      <td>2021-04-01</td>\n",
       "      <td>FR</td>\n",
       "      <td>LITTLE VASQUEZ</td>\n",
       "      <td>1</td>\n",
       "      <td>0</td>\n",
       "      <td>0</td>\n",
       "      <td>04-01</td>\n",
       "    </tr>\n",
       "  </tbody>\n",
       "</table>\n",
       "<p>9107 rows × 7 columns</p>\n",
       "</div>"
      ],
      "text/plain": [
       "            DATE CODE     BYPASS_NAME IRRIGATION SPILL FISH  MM-DD\n",
       "8     1996-01-01   FR  LITTLE VASQUEZ          1     0    0  01-01\n",
       "22    1996-01-02   FR  LITTLE VASQUEZ          1     0    0  01-02\n",
       "36    1996-01-03   FR  LITTLE VASQUEZ          1     0    0  01-03\n",
       "50    1996-01-04   FR  LITTLE VASQUEZ          1     0    0  01-04\n",
       "64    1996-01-05   FR  LITTLE VASQUEZ          1     0    0  01-05\n",
       "...          ...  ...             ...        ...   ...  ...    ...\n",
       "35624 2021-03-28   FR  LITTLE VASQUEZ          1     0    0  03-28\n",
       "35638 2021-03-29   FR  LITTLE VASQUEZ          1     0    0  03-29\n",
       "35652 2021-03-30   FR  LITTLE VASQUEZ          1     0    0  03-30\n",
       "35666 2021-03-31   FR  LITTLE VASQUEZ          1     0    0  03-31\n",
       "35680 2021-04-01   FR  LITTLE VASQUEZ          1     0    0  04-01\n",
       "\n",
       "[9107 rows x 7 columns]"
      ]
     },
     "execution_count": 22,
     "metadata": {},
     "output_type": "execute_result"
    }
   ],
   "source": [
    "little_vasquez"
   ]
  },
  {
   "cell_type": "markdown",
   "metadata": {},
   "source": [
    "## Little Cabin Creek"
   ]
  },
  {
   "cell_type": "code",
   "execution_count": 23,
   "metadata": {},
   "outputs": [],
   "source": [
    "#little cabin creek \n",
    "little_cc = result_df.loc[result_df['BYPASS_NAME'] == 'LITTLE CABIN CREEK']"
   ]
  },
  {
   "cell_type": "code",
   "execution_count": 24,
   "metadata": {},
   "outputs": [],
   "source": [
    "#fill in the random values with 0\n",
    "little_cc = little_cc.fillna(0)\n",
    "\n",
    "#setting each date as a \"date\" and set a MM-DD\n",
    "little_cc['DATE'] = pd.to_datetime(little_cc['DATE'])\n",
    "little_cc['MM-DD'] = little_cc['DATE'].dt.strftime('%m-%d')"
   ]
  },
  {
   "cell_type": "code",
   "execution_count": 25,
   "metadata": {},
   "outputs": [],
   "source": [
    "# clear up the bypassed values\n",
    "little_cc['IRRIGATION'] = np.where((little_cc['IRRIGATION'].isin(bypass_list)), '0.125', little_cc['IRRIGATION'])\n",
    "\n",
    "little_cc['SPILL'] = np.where((little_cc['SPILL'].isin(bypass_list)), '0.125', little_cc['SPILL'])\n",
    "\n",
    "little_cc['FISH'] = np.where((little_cc['FISH'].isin(bypass_list)), '0.125', little_cc['FISH'])"
   ]
  },
  {
   "cell_type": "code",
   "execution_count": 26,
   "metadata": {},
   "outputs": [],
   "source": [
    "#clear out \"in system\", set all to 0\n",
    "little_cc['IRRIGATION'] = np.where((little_cc['IRRIGATION'].isin(in_system_list)), '0', little_cc['IRRIGATION'])\n",
    "little_cc['SPILL'] = np.where((little_cc['SPILL'].isin(in_system_list)), '0', little_cc['SPILL'])\n",
    "little_cc['FISH'] = np.where((little_cc['FISH'].isin(in_system_list)), '0', little_cc['FISH'])\n",
    "\n",
    "#clear frozen entries, set to 0\n",
    "little_cc['IRRIGATION'] = np.where((little_cc['IRRIGATION'].isin(frozen_list)), '0', little_cc['IRRIGATION'])\n",
    "little_cc['SPILL'] = np.where((little_cc['SPILL'].isin(frozen_list)), '0', little_cc['SPILL'])\n",
    "little_cc['FISH'] = np.where((little_cc['FISH'].isin(frozen_list)), '0', little_cc['FISH'])"
   ]
  },
  {
   "cell_type": "markdown",
   "metadata": {},
   "source": [
    "## Cabin Creek"
   ]
  },
  {
   "cell_type": "code",
   "execution_count": 27,
   "metadata": {},
   "outputs": [],
   "source": [
    "#cabin creek \n",
    "cabin_creek = result_df.loc[result_df['BYPASS_NAME'] == 'CABIN CREEK']"
   ]
  },
  {
   "cell_type": "code",
   "execution_count": 28,
   "metadata": {},
   "outputs": [],
   "source": [
    "#fill in the random values with 0\n",
    "cabin_creek = cabin_creek.fillna(0)\n",
    "\n",
    "#setting each date as a \"date\" and set a MM-DD\n",
    "cabin_creek['DATE'] = pd.to_datetime(cabin_creek['DATE'])\n",
    "cabin_creek['MM-DD'] = cabin_creek['DATE'].dt.strftime('%m-%d')"
   ]
  },
  {
   "cell_type": "code",
   "execution_count": 29,
   "metadata": {},
   "outputs": [],
   "source": [
    "# clear up the bypassed values\n",
    "cabin_creek['IRRIGATION'] = np.where((cabin_creek['IRRIGATION'].isin(bypass_list)), '1.0', cabin_creek['IRRIGATION'])\n",
    "\n",
    "cabin_creek['SPILL'] = np.where((cabin_creek['SPILL'].isin(bypass_list)), '1.0', cabin_creek['SPILL'])\n",
    "\n",
    "cabin_creek['FISH'] = np.where((cabin_creek['FISH'].isin(bypass_list)), '1.0', cabin_creek['FISH'])"
   ]
  },
  {
   "cell_type": "code",
   "execution_count": 30,
   "metadata": {},
   "outputs": [],
   "source": [
    "#clear out \"in system\", set all to 0\n",
    "cabin_creek['IRRIGATION'] = np.where((cabin_creek['IRRIGATION'].isin(in_system_list)), '0', cabin_creek['IRRIGATION'])\n",
    "cabin_creek['SPILL'] = np.where((cabin_creek['SPILL'].isin(in_system_list)), '0', cabin_creek['SPILL'])\n",
    "cabin_creek['FISH'] = np.where((cabin_creek['FISH'].isin(in_system_list)), '0', cabin_creek['FISH'])\n",
    "\n",
    "#clear frozen entries, set to 0\n",
    "cabin_creek['IRRIGATION'] = np.where((cabin_creek['IRRIGATION'].isin(frozen_list)), '0', cabin_creek['IRRIGATION'])\n",
    "cabin_creek['SPILL'] = np.where((cabin_creek['SPILL'].isin(frozen_list)), '0', cabin_creek['SPILL'])\n",
    "cabin_creek['FISH'] = np.where((cabin_creek['FISH'].isin(frozen_list)), '0', cabin_creek['FISH'])"
   ]
  },
  {
   "cell_type": "markdown",
   "metadata": {},
   "source": [
    "## Trial Creek"
   ]
  },
  {
   "cell_type": "code",
   "execution_count": 31,
   "metadata": {},
   "outputs": [],
   "source": [
    "#cabin creek \n",
    "trail_creek = result_df.loc[result_df['BYPASS_NAME'] == 'TRAIL CREEK']"
   ]
  },
  {
   "cell_type": "code",
   "execution_count": 32,
   "metadata": {},
   "outputs": [],
   "source": [
    "#fill in the random values with 0\n",
    "trail_creek = trail_creek.fillna(0)\n",
    "\n",
    "#setting each date as a \"date\" and set a MM-DD\n",
    "trail_creek['DATE'] = pd.to_datetime(trail_creek['DATE'])\n",
    "trail_creek['MM-DD'] = trail_creek['DATE'].dt.strftime('%m-%d')"
   ]
  },
  {
   "cell_type": "code",
   "execution_count": 33,
   "metadata": {},
   "outputs": [
    {
     "data": {
      "text/html": [
       "<div>\n",
       "<style scoped>\n",
       "    .dataframe tbody tr th:only-of-type {\n",
       "        vertical-align: middle;\n",
       "    }\n",
       "\n",
       "    .dataframe tbody tr th {\n",
       "        vertical-align: top;\n",
       "    }\n",
       "\n",
       "    .dataframe thead th {\n",
       "        text-align: right;\n",
       "    }\n",
       "</style>\n",
       "<table border=\"1\" class=\"dataframe\">\n",
       "  <thead>\n",
       "    <tr style=\"text-align: right;\">\n",
       "      <th></th>\n",
       "      <th>DATE</th>\n",
       "      <th>CODE</th>\n",
       "      <th>BYPASS_NAME</th>\n",
       "      <th>IRRIGATION</th>\n",
       "      <th>SPILL</th>\n",
       "      <th>FISH</th>\n",
       "      <th>MM-DD</th>\n",
       "    </tr>\n",
       "  </thead>\n",
       "  <tbody>\n",
       "    <tr>\n",
       "      <th>12</th>\n",
       "      <td>1996-01-01</td>\n",
       "      <td>FR</td>\n",
       "      <td>TRAIL CREEK</td>\n",
       "      <td>0</td>\n",
       "      <td>0</td>\n",
       "      <td>0</td>\n",
       "      <td>01-01</td>\n",
       "    </tr>\n",
       "    <tr>\n",
       "      <th>26</th>\n",
       "      <td>1996-01-02</td>\n",
       "      <td>FR</td>\n",
       "      <td>TRAIL CREEK</td>\n",
       "      <td>0</td>\n",
       "      <td>0</td>\n",
       "      <td>0</td>\n",
       "      <td>01-02</td>\n",
       "    </tr>\n",
       "    <tr>\n",
       "      <th>40</th>\n",
       "      <td>1996-01-03</td>\n",
       "      <td>FR</td>\n",
       "      <td>TRAIL CREEK</td>\n",
       "      <td>0</td>\n",
       "      <td>0</td>\n",
       "      <td>0</td>\n",
       "      <td>01-03</td>\n",
       "    </tr>\n",
       "    <tr>\n",
       "      <th>54</th>\n",
       "      <td>1996-01-04</td>\n",
       "      <td>FR</td>\n",
       "      <td>TRAIL CREEK</td>\n",
       "      <td>0</td>\n",
       "      <td>0</td>\n",
       "      <td>0</td>\n",
       "      <td>01-04</td>\n",
       "    </tr>\n",
       "    <tr>\n",
       "      <th>68</th>\n",
       "      <td>1996-01-05</td>\n",
       "      <td>FR</td>\n",
       "      <td>TRAIL CREEK</td>\n",
       "      <td>0</td>\n",
       "      <td>0</td>\n",
       "      <td>0</td>\n",
       "      <td>01-05</td>\n",
       "    </tr>\n",
       "    <tr>\n",
       "      <th>...</th>\n",
       "      <td>...</td>\n",
       "      <td>...</td>\n",
       "      <td>...</td>\n",
       "      <td>...</td>\n",
       "      <td>...</td>\n",
       "      <td>...</td>\n",
       "      <td>...</td>\n",
       "    </tr>\n",
       "    <tr>\n",
       "      <th>35628</th>\n",
       "      <td>2021-03-28</td>\n",
       "      <td>FR</td>\n",
       "      <td>TRAIL CREEK</td>\n",
       "      <td>0</td>\n",
       "      <td>0</td>\n",
       "      <td>bypass</td>\n",
       "      <td>03-28</td>\n",
       "    </tr>\n",
       "    <tr>\n",
       "      <th>35642</th>\n",
       "      <td>2021-03-29</td>\n",
       "      <td>FR</td>\n",
       "      <td>TRAIL CREEK</td>\n",
       "      <td>0</td>\n",
       "      <td>0</td>\n",
       "      <td>bypass</td>\n",
       "      <td>03-29</td>\n",
       "    </tr>\n",
       "    <tr>\n",
       "      <th>35656</th>\n",
       "      <td>2021-03-30</td>\n",
       "      <td>FR</td>\n",
       "      <td>TRAIL CREEK</td>\n",
       "      <td>0</td>\n",
       "      <td>0</td>\n",
       "      <td>bypass</td>\n",
       "      <td>03-30</td>\n",
       "    </tr>\n",
       "    <tr>\n",
       "      <th>35670</th>\n",
       "      <td>2021-03-31</td>\n",
       "      <td>FR</td>\n",
       "      <td>TRAIL CREEK</td>\n",
       "      <td>0</td>\n",
       "      <td>0</td>\n",
       "      <td>bypass</td>\n",
       "      <td>03-31</td>\n",
       "    </tr>\n",
       "    <tr>\n",
       "      <th>35684</th>\n",
       "      <td>2021-04-01</td>\n",
       "      <td>FR</td>\n",
       "      <td>TRAIL CREEK</td>\n",
       "      <td>0</td>\n",
       "      <td>0</td>\n",
       "      <td>bypass</td>\n",
       "      <td>04-01</td>\n",
       "    </tr>\n",
       "  </tbody>\n",
       "</table>\n",
       "<p>9105 rows × 7 columns</p>\n",
       "</div>"
      ],
      "text/plain": [
       "            DATE CODE  BYPASS_NAME IRRIGATION SPILL    FISH  MM-DD\n",
       "12    1996-01-01   FR  TRAIL CREEK          0     0       0  01-01\n",
       "26    1996-01-02   FR  TRAIL CREEK          0     0       0  01-02\n",
       "40    1996-01-03   FR  TRAIL CREEK          0     0       0  01-03\n",
       "54    1996-01-04   FR  TRAIL CREEK          0     0       0  01-04\n",
       "68    1996-01-05   FR  TRAIL CREEK          0     0       0  01-05\n",
       "...          ...  ...          ...        ...   ...     ...    ...\n",
       "35628 2021-03-28   FR  TRAIL CREEK          0     0  bypass  03-28\n",
       "35642 2021-03-29   FR  TRAIL CREEK          0     0  bypass  03-29\n",
       "35656 2021-03-30   FR  TRAIL CREEK          0     0  bypass  03-30\n",
       "35670 2021-03-31   FR  TRAIL CREEK          0     0  bypass  03-31\n",
       "35684 2021-04-01   FR  TRAIL CREEK          0     0  bypass  04-01\n",
       "\n",
       "[9105 rows x 7 columns]"
      ]
     },
     "execution_count": 33,
     "metadata": {},
     "output_type": "execute_result"
    }
   ],
   "source": [
    "trail_creek"
   ]
  },
  {
   "cell_type": "code",
   "execution_count": 34,
   "metadata": {},
   "outputs": [],
   "source": [
    "# clear up the bypassed values\n",
    "#trail_creek['IRRIGATION'] = np.where(trail_creek['IRRIGATION'].isin(bypass_list)), '0.125', (trail_creek['IRRIGATION'])\n",
    "\n",
    "trail_creek['SPILL'] = np.where((trail_creek['SPILL'].isin(bypass_list)), '0.125', trail_creek['SPILL'])\n",
    "\n",
    "trail_creek['FISH'] = np.where((trail_creek['FISH'].isin(bypass_list)), '0.125', trail_creek['FISH'])"
   ]
  },
  {
   "cell_type": "code",
   "execution_count": 35,
   "metadata": {},
   "outputs": [],
   "source": [
    "#clear out \"in system\", set all to 0\n",
    "trail_creek['IRRIGATION'] = np.where((trail_creek['IRRIGATION'].isin(in_system_list)), '0', trail_creek['IRRIGATION'])\n",
    "trail_creek['SPILL'] = np.where((trail_creek['SPILL'].isin(in_system_list)), '0', trail_creek['SPILL'])\n",
    "trail_creek['FISH'] = np.where((trail_creek['FISH'].isin(in_system_list)), '0', trail_creek['FISH'])\n",
    "\n",
    "#clear frozen entries, set to 0\n",
    "trail_creek['IRRIGATION'] = np.where((trail_creek['IRRIGATION'].isin(frozen_list)), '0', trail_creek['IRRIGATION'])\n",
    "trail_creek['SPILL'] = np.where((trail_creek['SPILL'].isin(frozen_list)), '0', trail_creek['SPILL'])\n",
    "trail_creek['FISH'] = np.where((trail_creek['FISH'].isin(frozen_list)), '0', trail_creek['FISH'])"
   ]
  },
  {
   "cell_type": "code",
   "execution_count": 36,
   "metadata": {},
   "outputs": [],
   "source": [
    "#trail_creek['IRRIGATION'] = np.where(trail_creek['IRRIGATION'].isin(bypass_list)), '0.125', (trail_creek['IRRIGATION'])"
   ]
  },
  {
   "cell_type": "code",
   "execution_count": 37,
   "metadata": {},
   "outputs": [
    {
     "data": {
      "text/html": [
       "<div>\n",
       "<style scoped>\n",
       "    .dataframe tbody tr th:only-of-type {\n",
       "        vertical-align: middle;\n",
       "    }\n",
       "\n",
       "    .dataframe tbody tr th {\n",
       "        vertical-align: top;\n",
       "    }\n",
       "\n",
       "    .dataframe thead th {\n",
       "        text-align: right;\n",
       "    }\n",
       "</style>\n",
       "<table border=\"1\" class=\"dataframe\">\n",
       "  <thead>\n",
       "    <tr style=\"text-align: right;\">\n",
       "      <th></th>\n",
       "      <th>DATE</th>\n",
       "      <th>CODE</th>\n",
       "      <th>BYPASS_NAME</th>\n",
       "      <th>IRRIGATION</th>\n",
       "      <th>SPILL</th>\n",
       "      <th>FISH</th>\n",
       "      <th>MM-DD</th>\n",
       "    </tr>\n",
       "  </thead>\n",
       "  <tbody>\n",
       "  </tbody>\n",
       "</table>\n",
       "</div>"
      ],
      "text/plain": [
       "Empty DataFrame\n",
       "Columns: [DATE, CODE, BYPASS_NAME, IRRIGATION, SPILL, FISH, MM-DD]\n",
       "Index: []"
      ]
     },
     "execution_count": 37,
     "metadata": {},
     "output_type": "execute_result"
    }
   ],
   "source": [
    "trail_creek.loc[trail_creek['IRRIGATION'].isin(bypass_list)]"
   ]
  },
  {
   "cell_type": "code",
   "execution_count": 38,
   "metadata": {},
   "outputs": [
    {
     "data": {
      "text/plain": [
       "DATE           datetime64[ns]\n",
       "CODE                   object\n",
       "BYPASS_NAME            object\n",
       "IRRIGATION             object\n",
       "SPILL                  object\n",
       "FISH                   object\n",
       "MM-DD                  object\n",
       "dtype: object"
      ]
     },
     "execution_count": 38,
     "metadata": {},
     "output_type": "execute_result"
    }
   ],
   "source": [
    "trail_creek.dtypes"
   ]
  },
  {
   "cell_type": "markdown",
   "metadata": {},
   "source": [
    "## Hurd Creek"
   ]
  },
  {
   "cell_type": "code",
   "execution_count": 39,
   "metadata": {},
   "outputs": [],
   "source": [
    "#cabin creek \n",
    "hurd_creek = result_df.loc[result_df['BYPASS_NAME'] == 'HURD CREEK']"
   ]
  },
  {
   "cell_type": "code",
   "execution_count": 40,
   "metadata": {},
   "outputs": [],
   "source": [
    "#fill in the random values with 0\n",
    "hurd_creek = hurd_creek.fillna(0)\n",
    "\n",
    "#setting each date as a \"date\" and set a MM-DD\n",
    "hurd_creek['DATE'] = pd.to_datetime(hurd_creek['DATE'])\n",
    "hurd_creek['MM-DD'] = hurd_creek['DATE'].dt.strftime('%m-%d')"
   ]
  },
  {
   "cell_type": "code",
   "execution_count": 41,
   "metadata": {},
   "outputs": [],
   "source": [
    "# clear up the bypassed values\n",
    "hurd_creek['IRRIGATION'] = np.where((hurd_creek['IRRIGATION'].isin(bypass_list)), '0.5', hurd_creek['IRRIGATION'])\n",
    "\n",
    "hurd_creek['SPILL'] = np.where((hurd_creek['SPILL'].isin(bypass_list)), '0.5', hurd_creek['SPILL'])\n",
    "\n",
    "hurd_creek['FISH'] = np.where((hurd_creek['FISH'].isin(bypass_list)), '0.5', hurd_creek['FISH'])"
   ]
  },
  {
   "cell_type": "code",
   "execution_count": 42,
   "metadata": {},
   "outputs": [],
   "source": [
    "#clear out \"in system\", set all to 0\n",
    "hurd_creek['IRRIGATION'] = np.where((hurd_creek['IRRIGATION'].isin(in_system_list)), '0', hurd_creek['IRRIGATION'])\n",
    "hurd_creek['SPILL'] = np.where((hurd_creek['SPILL'].isin(in_system_list)), '0', hurd_creek['SPILL'])\n",
    "hurd_creek['FISH'] = np.where((hurd_creek['FISH'].isin(in_system_list)), '0', hurd_creek['FISH'])\n",
    "\n",
    "#clear frozen entries, set to 0\n",
    "hurd_creek['IRRIGATION'] = np.where((hurd_creek['IRRIGATION'].isin(frozen_list)), '0', hurd_creek['IRRIGATION'])\n",
    "hurd_creek['SPILL'] = np.where((hurd_creek['SPILL'].isin(frozen_list)), '0', hurd_creek['SPILL'])\n",
    "hurd_creek['FISH'] = np.where((hurd_creek['FISH'].isin(frozen_list)), '0', hurd_creek['FISH'])"
   ]
  },
  {
   "cell_type": "markdown",
   "metadata": {},
   "source": [
    "## Elk Creek"
   ]
  },
  {
   "cell_type": "code",
   "execution_count": 43,
   "metadata": {},
   "outputs": [],
   "source": [
    "#elk creek \n",
    "elk_creek = result_df.loc[result_df['BYPASS_NAME'] == 'ELK CREEK']"
   ]
  },
  {
   "cell_type": "code",
   "execution_count": 44,
   "metadata": {},
   "outputs": [],
   "source": [
    "#fill in the random values with 0\n",
    "elk_creek = elk_creek.fillna(0)\n",
    "\n",
    "#setting each date as a \"date\" and set a MM-DD\n",
    "elk_creek['DATE'] = pd.to_datetime(elk_creek['DATE'])\n",
    "elk_creek['MM-DD'] = elk_creek['DATE'].dt.strftime('%m-%d')"
   ]
  },
  {
   "cell_type": "code",
   "execution_count": 45,
   "metadata": {},
   "outputs": [],
   "source": [
    "# clear up the bypassed values\n",
    "elk_creek['IRRIGATION'] = np.where((elk_creek['IRRIGATION'].isin(bypass_list)), '0.125', elk_creek['IRRIGATION'])\n",
    "\n",
    "elk_creek['SPILL'] = np.where((elk_creek['SPILL'].isin(bypass_list)), '0.125', elk_creek['SPILL'])\n",
    "\n",
    "elk_creek['FISH'] = np.where((elk_creek['FISH'].isin(bypass_list)), '1.0', elk_creek['FISH'])"
   ]
  },
  {
   "cell_type": "code",
   "execution_count": 46,
   "metadata": {},
   "outputs": [],
   "source": [
    "#clear out \"in system\", set all to 0\n",
    "elk_creek['IRRIGATION'] = np.where((elk_creek['IRRIGATION'].isin(in_system_list)), '0', elk_creek['IRRIGATION'])\n",
    "elk_creek['SPILL'] = np.where((elk_creek['SPILL'].isin(in_system_list)), '0', elk_creek['SPILL'])\n",
    "elk_creek['FISH'] = np.where((elk_creek['FISH'].isin(in_system_list)), '0', elk_creek['FISH'])\n",
    "\n",
    "#clear frozen entries, set to 0\n",
    "elk_creek['IRRIGATION'] = np.where((elk_creek['IRRIGATION'].isin(frozen_list)), '0', elk_creek['IRRIGATION'])\n",
    "elk_creek['SPILL'] = np.where((elk_creek['SPILL'].isin(frozen_list)), '0', elk_creek['SPILL'])\n",
    "elk_creek['FISH'] = np.where((elk_creek['FISH'].isin(frozen_list)), '0', elk_creek['FISH'])"
   ]
  },
  {
   "cell_type": "markdown",
   "metadata": {},
   "source": [
    "## Hamilton Creek"
   ]
  },
  {
   "cell_type": "code",
   "execution_count": 47,
   "metadata": {},
   "outputs": [],
   "source": [
    "#little vasquez \n",
    "ham_creek = result_df.loc[result_df['BYPASS_NAME'] == 'HAMILTON CREEK']"
   ]
  },
  {
   "cell_type": "code",
   "execution_count": 48,
   "metadata": {},
   "outputs": [],
   "source": [
    "#fill in the random values with 0\n",
    "ham_creek = ham_creek.fillna(0)\n",
    "\n",
    "#setting each date as a \"date\" and set a MM-DD\n",
    "ham_creek['DATE'] = pd.to_datetime(ham_creek['DATE'])\n",
    "ham_creek['MM-DD'] = ham_creek['DATE'].dt.strftime('%m-%d')"
   ]
  },
  {
   "cell_type": "code",
   "execution_count": 49,
   "metadata": {},
   "outputs": [],
   "source": [
    "#hamilton timeframe\n",
    "hamilton_timeframe = ['05-01','05-02','05-03','05-04','05-05','05-06','05-07','05-08','05-09','05-10', '05-11','05-12','05-13','05-14','05-15','05-16','05-17','05-18','05-19','05-20','05-21','05-22','05-23','05-24','05-25','05-26','05-27','05-28','05-29','05-30','05-31','06-01','06-02','06-03','06-04','06-05','06-06','06-07','06-08','06-09','06-10','06-11','06-12','06-13','06-14']\n",
    "\n",
    "# clear up the bypassed values\n",
    "ham_creek['IRRIGATION'] = np.where((ham_creek['IRRIGATION'].isin(bypass_list)) & (ham_creek['MM-DD'].isin(hamilton_timeframe)), '0.5', ham_creek['IRRIGATION'])\n",
    "\n",
    "ham_creek['SPILL'] = np.where((ham_creek['SPILL'].isin(bypass_list)) & (ham_creek['MM-DD'].isin(hamilton_timeframe)), '0.5', ham_creek['SPILL'])\n",
    "\n",
    "ham_creek['FISH'] = np.where((ham_creek['FISH'].isin(bypass_list)) & (ham_creek['MM-DD'].isin(hamilton_timeframe)), '0.5', ham_creek['FISH'])"
   ]
  },
  {
   "cell_type": "code",
   "execution_count": 50,
   "metadata": {},
   "outputs": [],
   "source": [
    "#irrigation bypasses\n",
    "ham_creek['IRRIGATION'] = np.where((ham_creek['IRRIGATION'].isin(bypass_list)), '1.5', ham_creek['IRRIGATION'])\n",
    "\n",
    "#spill bypasses\n",
    "ham_creek['SPILL'] = np.where((ham_creek['SPILL'].isin(bypass_list)), '1.5', ham_creek['SPILL'])\n",
    "\n",
    "#fish bypasses\n",
    "ham_creek['FISH'] = np.where((ham_creek['FISH'].isin(bypass_list)), '1.5', ham_creek['FISH'])"
   ]
  },
  {
   "cell_type": "code",
   "execution_count": 51,
   "metadata": {},
   "outputs": [],
   "source": [
    "#clear out \"in system\", set all to 0\n",
    "ham_creek['IRRIGATION'] = np.where((ham_creek['IRRIGATION'].isin(in_system_list)), '0', ham_creek['IRRIGATION'])\n",
    "ham_creek['SPILL'] = np.where((ham_creek['SPILL'].isin(in_system_list)), '0', ham_creek['SPILL'])\n",
    "ham_creek['FISH'] = np.where((ham_creek['FISH'].isin(in_system_list)), '0', ham_creek['FISH'])\n",
    "\n",
    "#clear frozen entries, set to 0\n",
    "ham_creek['IRRIGATION'] = np.where((ham_creek['IRRIGATION'].isin(frozen_list)), '0', ham_creek['IRRIGATION'])\n",
    "ham_creek['SPILL'] = np.where((ham_creek['SPILL'].isin(frozen_list)), '0', ham_creek['SPILL'])\n",
    "ham_creek['FISH'] = np.where((ham_creek['FISH'].isin(frozen_list)), '0', ham_creek['FISH'])"
   ]
  },
  {
   "cell_type": "markdown",
   "metadata": {},
   "source": [
    "## Meadow Creek Res"
   ]
  },
  {
   "cell_type": "code",
   "execution_count": 52,
   "metadata": {},
   "outputs": [],
   "source": [
    "#meadow creek\n",
    "m_creek = result_df.loc[result_df['BYPASS_NAME'] == 'MEADOW CREEK']"
   ]
  },
  {
   "cell_type": "code",
   "execution_count": 53,
   "metadata": {},
   "outputs": [],
   "source": [
    "#fill in the random values with 0\n",
    "m_creek = m_creek.fillna(0)\n",
    "\n",
    "#setting each date as a \"date\" and set a MM-DD\n",
    "m_creek['DATE'] = pd.to_datetime(m_creek['DATE'])\n",
    "m_creek['MM-DD'] = m_creek['DATE'].dt.strftime('%m-%d')"
   ]
  },
  {
   "cell_type": "code",
   "execution_count": 54,
   "metadata": {},
   "outputs": [],
   "source": [
    "mc_timeframe = ['04-01','04-02','04-03','04-04','04-05','04-06','04-07','04-08','04-09','04-10','04-11','04-12','04-13','04-14','04-14','04-15','04-16','04-17','04-18','04-19','04-20','04-21','04-22','04-23','04-24','04-25','04-26','04-27','04-28','04-29','04-30']"
   ]
  },
  {
   "cell_type": "code",
   "execution_count": 55,
   "metadata": {},
   "outputs": [],
   "source": [
    "# clear up the bypassed values\n",
    "m_creek['IRRIGATION'] = np.where((m_creek['IRRIGATION'].isin(bypass_list)) & (m_creek['MM-DD'].isin(mc_timeframe)), '0.75', m_creek['IRRIGATION'])\n",
    "\n",
    "m_creek['SPILL'] = np.where((m_creek['SPILL'].isin(bypass_list)) & (m_creek['MM-DD'].isin(mc_timeframe)), '0.75', m_creek['SPILL'])\n",
    "\n",
    "m_creek['FISH'] = np.where((m_creek['FISH'].isin(bypass_list)) & (m_creek['MM-DD'].isin(mc_timeframe)), '0.75', m_creek['FISH'])"
   ]
  },
  {
   "cell_type": "code",
   "execution_count": 56,
   "metadata": {},
   "outputs": [],
   "source": [
    "#irrigation bypasses\n",
    "m_creek['IRRIGATION'] = np.where((m_creek['IRRIGATION'].isin(bypass_list)), '1.5', m_creek['IRRIGATION'])\n",
    "\n",
    "#spill bypasses\n",
    "m_creek['SPILL'] = np.where((m_creek['SPILL'].isin(bypass_list)), '1.5', m_creek['SPILL'])\n",
    "\n",
    "#fish bypasses\n",
    "m_creek['FISH'] = np.where((m_creek['FISH'].isin(bypass_list)), '1.5', m_creek['FISH'])"
   ]
  },
  {
   "cell_type": "code",
   "execution_count": 57,
   "metadata": {},
   "outputs": [],
   "source": [
    "#clear out \"in system\", set all to 0\n",
    "m_creek['IRRIGATION'] = np.where((m_creek['IRRIGATION'].isin(in_system_list)), '0', m_creek['IRRIGATION'])\n",
    "m_creek['SPILL'] = np.where((m_creek['SPILL'].isin(in_system_list)), '0', m_creek['SPILL'])\n",
    "m_creek['FISH'] = np.where((m_creek['FISH'].isin(in_system_list)), '0', m_creek['FISH'])\n",
    "\n",
    "#clear frozen entries, set to 0\n",
    "m_creek['IRRIGATION'] = np.where((m_creek['IRRIGATION'].isin(frozen_list)), '0', m_creek['IRRIGATION'])\n",
    "m_creek['SPILL'] = np.where((m_creek['SPILL'].isin(frozen_list)), '0', m_creek['SPILL'])\n",
    "m_creek['FISH'] = np.where((m_creek['FISH'].isin(frozen_list)), '0', m_creek['FISH'])"
   ]
  },
  {
   "cell_type": "markdown",
   "metadata": {},
   "source": [
    "## St Louis Creek"
   ]
  },
  {
   "cell_type": "code",
   "execution_count": 58,
   "metadata": {},
   "outputs": [],
   "source": [
    "#meadow creek\n",
    "sl_creek = result_df.loc[result_df['BYPASS_NAME'] == 'ST LOUIS CREEK']"
   ]
  },
  {
   "cell_type": "code",
   "execution_count": 59,
   "metadata": {},
   "outputs": [],
   "source": [
    "#fill in the random values with 0\n",
    "sl_creek = sl_creek.fillna(0)\n",
    "\n",
    "#setting each date as a \"date\" and set a MM-DD\n",
    "sl_creek['DATE'] = pd.to_datetime(sl_creek['DATE'])\n",
    "sl_creek['MM-DD'] = sl_creek['DATE'].dt.strftime('%m-%d')"
   ]
  },
  {
   "cell_type": "code",
   "execution_count": 60,
   "metadata": {},
   "outputs": [],
   "source": [
    "# clear up the bypassed values\n",
    "sl_creek['IRRIGATION'] = np.where((sl_creek['IRRIGATION'].isin(bypass_list)) & (sl_creek['MM-DD'].isin(timeframe)), '5.0', sl_creek['IRRIGATION'])\n",
    "\n",
    "sl_creek['SPILL'] = np.where((sl_creek['SPILL'].isin(bypass_list)) & (sl_creek['MM-DD'].isin(timeframe)), '5.0', sl_creek['SPILL'])\n",
    "\n",
    "sl_creek['FISH'] = np.where((sl_creek['FISH'].isin(bypass_list)) & (sl_creek['MM-DD'].isin(timeframe)), '5.0', sl_creek['FISH'])"
   ]
  },
  {
   "cell_type": "code",
   "execution_count": 61,
   "metadata": {},
   "outputs": [],
   "source": [
    "#irrigation bypasses\n",
    "sl_creek['IRRIGATION'] = np.where((sl_creek['IRRIGATION'].isin(bypass_list)), '1.5', sl_creek['IRRIGATION'])\n",
    "\n",
    "#spill bypasses\n",
    "sl_creek['SPILL'] = np.where((sl_creek['SPILL'].isin(bypass_list)), '1.5', sl_creek['SPILL'])\n",
    "\n",
    "#fish bypasses\n",
    "sl_creek['FISH'] = np.where((sl_creek['FISH'].isin(bypass_list)), '1.5', sl_creek['FISH'])"
   ]
  },
  {
   "cell_type": "code",
   "execution_count": 62,
   "metadata": {},
   "outputs": [],
   "source": [
    "#clear out \"in system\", set all to 0\n",
    "sl_creek['IRRIGATION'] = np.where((sl_creek['IRRIGATION'].isin(in_system_list)), '0', sl_creek['IRRIGATION'])\n",
    "sl_creek['SPILL'] = np.where((sl_creek['SPILL'].isin(in_system_list)), '0', sl_creek['SPILL'])\n",
    "sl_creek['FISH'] = np.where((sl_creek['FISH'].isin(in_system_list)), '0', sl_creek['FISH'])\n",
    "\n",
    "#clear frozen entries, set to 0\n",
    "sl_creek['IRRIGATION'] = np.where((sl_creek['IRRIGATION'].isin(frozen_list)), '0', sl_creek['IRRIGATION'])\n",
    "sl_creek['SPILL'] = np.where((sl_creek['SPILL'].isin(frozen_list)), '0', sl_creek['SPILL'])\n",
    "sl_creek['FISH'] = np.where((sl_creek['FISH'].isin(frozen_list)), '0', sl_creek['FISH'])"
   ]
  },
  {
   "cell_type": "markdown",
   "metadata": {},
   "source": [
    "## Fraser River"
   ]
  },
  {
   "cell_type": "code",
   "execution_count": 63,
   "metadata": {},
   "outputs": [],
   "source": [
    "#fraser river\n",
    "fraser_river = result_df.loc[result_df['BYPASS_NAME'] == 'FRASER RIVER']"
   ]
  },
  {
   "cell_type": "code",
   "execution_count": 64,
   "metadata": {},
   "outputs": [],
   "source": [
    "#fill in the random values with 0\n",
    "fraser_river = fraser_river.fillna(0)\n",
    "\n",
    "#setting each date as a \"date\" and set a MM-DD\n",
    "fraser_river['DATE'] = pd.to_datetime(fraser_river['DATE'])\n",
    "fraser_river['MM-DD'] = fraser_river['DATE'].dt.strftime('%m-%d')"
   ]
  },
  {
   "cell_type": "code",
   "execution_count": 65,
   "metadata": {},
   "outputs": [],
   "source": [
    "# clear up the bypassed values\n",
    "fraser_river['IRRIGATION'] = np.where((fraser_river['IRRIGATION'].isin(bypass_list)) & (fraser_river['MM-DD'].isin(timeframe)), '5.0', fraser_river['IRRIGATION'])\n",
    "\n",
    "fraser_river['SPILL'] = np.where((fraser_river['SPILL'].isin(bypass_list)) & (fraser_river['MM-DD'].isin(timeframe)), '5.0', fraser_river['SPILL'])\n",
    "\n",
    "fraser_river['FISH'] = np.where((fraser_river['FISH'].isin(bypass_list)) & (fraser_river['MM-DD'].isin(timeframe)), '5.0', fraser_river['FISH'])"
   ]
  },
  {
   "cell_type": "code",
   "execution_count": 66,
   "metadata": {},
   "outputs": [],
   "source": [
    "#irrigation bypasses\n",
    "fraser_river['IRRIGATION'] = np.where((fraser_river['IRRIGATION'].isin(bypass_list)), '2.0', fraser_river['IRRIGATION'])\n",
    "\n",
    "#spill bypasses\n",
    "fraser_river['SPILL'] = np.where((fraser_river['SPILL'].isin(bypass_list)), '2.0', fraser_river['SPILL'])\n",
    "\n",
    "#fish bypasses\n",
    "fraser_river['FISH'] = np.where((fraser_river['FISH'].isin(bypass_list)), '2.0', fraser_river['FISH'])"
   ]
  },
  {
   "cell_type": "code",
   "execution_count": 67,
   "metadata": {},
   "outputs": [],
   "source": [
    "#clear out \"in system\", set all to 0\n",
    "fraser_river['IRRIGATION'] = np.where((fraser_river['IRRIGATION'].isin(in_system_list)), '0', fraser_river['IRRIGATION'])\n",
    "fraser_river['SPILL'] = np.where((fraser_river['SPILL'].isin(in_system_list)), '0', fraser_river['SPILL'])\n",
    "fraser_river['FISH'] = np.where((fraser_river['FISH'].isin(in_system_list)), '0', fraser_river['FISH'])\n",
    "\n",
    "#clear frozen entries, set to 0\n",
    "fraser_river['IRRIGATION'] = np.where((fraser_river['IRRIGATION'].isin(frozen_list)), '0', fraser_river['IRRIGATION'])\n",
    "fraser_river['SPILL'] = np.where((fraser_river['SPILL'].isin(frozen_list)), '0', fraser_river['SPILL'])\n",
    "fraser_river['FISH'] = np.where((fraser_river['FISH'].isin(frozen_list)), '0', fraser_river['FISH'])"
   ]
  },
  {
   "cell_type": "markdown",
   "metadata": {},
   "source": [
    "## Ranch Creek"
   ]
  },
  {
   "cell_type": "code",
   "execution_count": 68,
   "metadata": {},
   "outputs": [],
   "source": [
    "#ranch creek\n",
    "r_creek = result_df.loc[result_df['BYPASS_NAME'] == 'RANCH CREEK']"
   ]
  },
  {
   "cell_type": "code",
   "execution_count": 69,
   "metadata": {},
   "outputs": [],
   "source": [
    "#fill in the random values with 0\n",
    "r_creek = r_creek.fillna(0)\n",
    "\n",
    "#setting each date as a \"date\" and set a MM-DD\n",
    "r_creek['DATE'] = pd.to_datetime(r_creek['DATE'])\n",
    "r_creek['MM-DD'] = r_creek['DATE'].dt.strftime('%m-%d')"
   ]
  },
  {
   "cell_type": "code",
   "execution_count": 70,
   "metadata": {},
   "outputs": [],
   "source": [
    "# clear up the bypassed values\n",
    "r_creek['IRRIGATION'] = np.where((r_creek['IRRIGATION'].isin(bypass_list)) & (r_creek['MM-DD'].isin(timeframe)), '2.0', r_creek['IRRIGATION'])\n",
    "\n",
    "r_creek['SPILL'] = np.where((r_creek['SPILL'].isin(bypass_list)) & (r_creek['MM-DD'].isin(timeframe)), '2.0', r_creek['SPILL'])\n",
    "\n",
    "r_creek['FISH'] = np.where((r_creek['FISH'].isin(bypass_list)) & (r_creek['MM-DD'].isin(timeframe)), '2.0', r_creek['FISH'])"
   ]
  },
  {
   "cell_type": "code",
   "execution_count": 71,
   "metadata": {},
   "outputs": [],
   "source": [
    "#irrigation bypasses\n",
    "r_creek['IRRIGATION'] = np.where((r_creek['IRRIGATION'].isin(bypass_list)), '1.0', r_creek['IRRIGATION'])\n",
    "\n",
    "#spill bypasses\n",
    "r_creek['SPILL'] = np.where((r_creek['SPILL'].isin(bypass_list)), '1.0', r_creek['SPILL'])\n",
    "\n",
    "#fish bypasses\n",
    "r_creek['FISH'] = np.where((r_creek['FISH'].isin(bypass_list)), '1.5', r_creek['FISH'])"
   ]
  },
  {
   "cell_type": "code",
   "execution_count": 72,
   "metadata": {},
   "outputs": [],
   "source": [
    "#clear out \"in system\", set all to 0\n",
    "r_creek['IRRIGATION'] = np.where((r_creek['IRRIGATION'].isin(in_system_list)), '0', r_creek['IRRIGATION'])\n",
    "r_creek['SPILL'] = np.where((r_creek['SPILL'].isin(in_system_list)), '0', r_creek['SPILL'])\n",
    "r_creek['FISH'] = np.where((r_creek['FISH'].isin(in_system_list)), '0', r_creek['FISH'])\n",
    "\n",
    "#clear frozen entries, set to 0\n",
    "r_creek['IRRIGATION'] = np.where((r_creek['IRRIGATION'].isin(frozen_list)), '0', r_creek['IRRIGATION'])\n",
    "r_creek['SPILL'] = np.where((r_creek['SPILL'].isin(frozen_list)), '0', r_creek['SPILL'])\n",
    "r_creek['FISH'] = np.where((r_creek['FISH'].isin(frozen_list)), '0', r_creek['FISH'])"
   ]
  },
  {
   "cell_type": "markdown",
   "metadata": {},
   "source": []
  },
  {
   "cell_type": "markdown",
   "metadata": {},
   "source": [
    "## Bringing all datasets together in 1 Dataframe"
   ]
  },
  {
   "cell_type": "code",
   "execution_count": 73,
   "metadata": {},
   "outputs": [],
   "source": [
    "frames_final = [trail_creek,r_creek,fraser_river,ham_creek,hurd_creek,cabin_creek,little_cc,elk_creek,sl_creek,m_creek,big_vasquez,little_vasquez]\n",
    "result_df_cleaned = pd.concat(frames_final)"
   ]
  },
  {
   "cell_type": "code",
   "execution_count": 76,
   "metadata": {},
   "outputs": [],
   "source": [
    "from pathlib import Path\n",
    "\n",
    "result_df_cleaned.to_excel('fraser_cleaned.xlsx')\n"
   ]
  }
 ],
 "metadata": {
  "kernelspec": {
   "display_name": "Python 3.9.12 ('base')",
   "language": "python",
   "name": "python3"
  },
  "language_info": {
   "codemirror_mode": {
    "name": "ipython",
    "version": 3
   },
   "file_extension": ".py",
   "mimetype": "text/x-python",
   "name": "python",
   "nbconvert_exporter": "python",
   "pygments_lexer": "ipython3",
   "version": "3.9.12"
  },
  "orig_nbformat": 4,
  "vscode": {
   "interpreter": {
    "hash": "ab0d46a83e50c145152abd4499a7ae7a590d7e930fc29ad42d6ecaf62aa1db45"
   }
  }
 },
 "nbformat": 4,
 "nbformat_minor": 2
}
